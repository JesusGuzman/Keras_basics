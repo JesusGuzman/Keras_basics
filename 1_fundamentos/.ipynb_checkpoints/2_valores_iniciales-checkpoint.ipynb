{
 "cells": [
  {
   "cell_type": "markdown",
   "metadata": {},
   "source": [
    "# keras "
   ]
  },
  {
   "cell_type": "markdown",
   "metadata": {},
   "source": [
    "La estructura inicial de keras es el modelo (model()).\n",
    "La forma de usar model es llamando a Sequencial."
   ]
  },
  {
   "cell_type": "code",
   "execution_count": null,
   "metadata": {
    "collapsed": true
   },
   "outputs": [],
   "source": [
    "from keras.models import Sequential\n",
    "model = Sequential()\n",
    "model.add(Dense(12, input_dim=8, kernel_initializer='random_uniform'))"
   ]
  },
  {
   "cell_type": "markdown",
   "metadata": {},
   "source": [
    "En esta parte del codigo definimos un modelo sequencial, agregamos una capa (model.add)\n",
    "esta primer capa tiene: \n",
    "    - 12 neuronas\n",
    "    - input_dim (variables de entrada a la capa)\n",
    "    - Kernel_initializer (valores con los que ininicializamos la neurona)"
   ]
  },
  {
   "cell_type": "markdown",
   "metadata": {},
   "source": [
    "Kernel_initializer: Forma de inicializar los pesos (Kernel's) de las neuronas de  \n",
    "la capa, keras nos proporciona los una lista, algunos son los siguientes:\n",
    "                                                    \n",
    "### random_uniform :\n",
    "Los pesos seran inicializados de forma uniforme con valores aleatorios entre (-0.05, 0.05). \n",
    "In other words, any value within the given interval is equally likely to be drawn.\n",
    "                                                    \n",
    "### random_normal: \n",
    "Weights are initialized according to a Gaussian, with a zero mean and small\n",
    "standard deviation of 0.05. For those of you who are not familiar with a Gaussian, think about a\n",
    "symmetric bell curve shape.\n",
    "                                                    \n",
    "### zero:\n",
    "Todos los pesos seran inicializados en cero.\n"
   ]
  },
  {
   "cell_type": "code",
   "execution_count": null,
   "metadata": {
    "collapsed": true
   },
   "outputs": [],
   "source": []
  }
 ],
 "metadata": {
  "kernelspec": {
   "display_name": "Python 2",
   "language": "python",
   "name": "python2"
  },
  "language_info": {
   "codemirror_mode": {
    "name": "ipython",
    "version": 2
   },
   "file_extension": ".py",
   "mimetype": "text/x-python",
   "name": "python",
   "nbconvert_exporter": "python",
   "pygments_lexer": "ipython2",
   "version": "2.7.14"
  }
 },
 "nbformat": 4,
 "nbformat_minor": 2
}
