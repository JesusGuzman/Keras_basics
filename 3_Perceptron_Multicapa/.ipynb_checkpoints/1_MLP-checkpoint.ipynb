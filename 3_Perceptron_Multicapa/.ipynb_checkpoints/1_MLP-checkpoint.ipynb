{
 "cells": [
  {
   "cell_type": "markdown",
   "metadata": {},
   "source": [
    "# Perceptron Multicapa (mnist)\n",
    "En el siguiente ejercicio construiremos una red neuronal para clasificacion del conjunto de datos mnist"
   ]
  },
  {
   "cell_type": "markdown",
   "metadata": {},
   "source": [
    "## Cargamos las librerias"
   ]
  },
  {
   "cell_type": "code",
   "execution_count": 2,
   "metadata": {},
   "outputs": [],
   "source": [
    "from keras.datasets import mnist\n",
    "from keras.models import Sequential\n",
    "from keras.layers.core import Dense, Dropout, Activation\n",
    "from keras.optimizers import SGD, Adam, RMSprop\n",
    "from keras.utils import np_utils\n",
    "from __future__ import print_function  \n",
    "import numpy as np\n",
    "np.random.seed(1337)"
   ]
  },
  {
   "cell_type": "code",
   "execution_count": 3,
   "metadata": {
    "collapsed": true
   },
   "outputs": [],
   "source": [
    "# Definimos nuestros Hyperparametros\n",
    "batch_size = 128 \n",
    "nb_classes = 10\n",
    "nb_epoch = 20"
   ]
  },
  {
   "cell_type": "markdown",
   "metadata": {},
   "source": [
    "## Preparamos nuestros datos\n",
    "Para este ejercicio utilizamos los datos de mnist"
   ]
  },
  {
   "cell_type": "code",
   "execution_count": 4,
   "metadata": {},
   "outputs": [
    {
     "name": "stdout",
     "output_type": "stream",
     "text": [
      "60000 train samples\n",
      "10000 test samples\n"
     ]
    }
   ],
   "source": [
    "# Cargamos nuestros datos y los dividimos en datos de entrenamiento y prueba\n",
    "(X_train, y_train), (X_test, y_test) = mnist.load_data()\n",
    "\n",
    "X_train = X_train.reshape(60000, 784)\n",
    "X_test = X_test.reshape(10000, 784)\n",
    "X_train = X_train.astype('float32')\n",
    "X_test = X_test.astype('float32')\n",
    "X_train /= 255\n",
    "X_test /= 255\n",
    "print(X_train.shape[0], 'train samples')\n",
    "print(X_test.shape[0], 'test samples')"
   ]
  },
  {
   "cell_type": "code",
   "execution_count": 5,
   "metadata": {
    "collapsed": true
   },
   "outputs": [],
   "source": [
    "# Convertimos los vectores a matrices binarias\n",
    "Y_train = np_utils.to_categorical(y_train, nb_classes)\n",
    "Y_test = np_utils.to_categorical(y_test, nb_classes)"
   ]
  },
  {
   "cell_type": "markdown",
   "metadata": {},
   "source": [
    "## Construcción del modelo"
   ]
  },
  {
   "cell_type": "code",
   "execution_count": 6,
   "metadata": {
    "collapsed": true
   },
   "outputs": [],
   "source": [
    "model = Sequential()\n",
    "model.add(Dense(512, input_shape=(784,)))\n",
    "model.add(Activation('relu'))\n",
    "model.add(Dropout(0.2))\n",
    "model.add(Dense(512))\n",
    "model.add(Activation('relu'))\n",
    "model.add(Dropout(0.2))\n",
    "model.add(Dense(10))\n",
    "model.add(Activation('softmax'))"
   ]
  },
  {
   "cell_type": "code",
   "execution_count": 7,
   "metadata": {},
   "outputs": [
    {
     "name": "stdout",
     "output_type": "stream",
     "text": [
      "_________________________________________________________________\n",
      "Layer (type)                 Output Shape              Param #   \n",
      "=================================================================\n",
      "dense_1 (Dense)              (None, 512)               401920    \n",
      "_________________________________________________________________\n",
      "activation_1 (Activation)    (None, 512)               0         \n",
      "_________________________________________________________________\n",
      "dropout_1 (Dropout)          (None, 512)               0         \n",
      "_________________________________________________________________\n",
      "dense_2 (Dense)              (None, 512)               262656    \n",
      "_________________________________________________________________\n",
      "activation_2 (Activation)    (None, 512)               0         \n",
      "_________________________________________________________________\n",
      "dropout_2 (Dropout)          (None, 512)               0         \n",
      "_________________________________________________________________\n",
      "dense_3 (Dense)              (None, 10)                5130      \n",
      "_________________________________________________________________\n",
      "activation_3 (Activation)    (None, 10)                0         \n",
      "=================================================================\n",
      "Total params: 669,706\n",
      "Trainable params: 669,706\n",
      "Non-trainable params: 0\n",
      "_________________________________________________________________\n"
     ]
    }
   ],
   "source": [
    "#Mostramos la arquitectura del modelo\n",
    "model.summary()"
   ]
  },
  {
   "cell_type": "markdown",
   "metadata": {},
   "source": [
    "## Complilación"
   ]
  },
  {
   "cell_type": "code",
   "execution_count": 10,
   "metadata": {
    "collapsed": true
   },
   "outputs": [],
   "source": [
    "model.compile(loss='categorical_crossentropy',\n",
    "              optimizer=RMSprop(),\n",
    "              metrics=['accuracy'])"
   ]
  },
  {
   "cell_type": "markdown",
   "metadata": {},
   "source": [
    "## Entrenamiento"
   ]
  },
  {
   "cell_type": "code",
   "execution_count": 11,
   "metadata": {},
   "outputs": [
    {
     "name": "stderr",
     "output_type": "stream",
     "text": [
      "/home/hadoop/anaconda2/envs/flow/lib/python2.7/site-packages/keras/models.py:942: UserWarning: The `nb_epoch` argument in `fit` has been renamed `epochs`.\n",
      "  warnings.warn('The `nb_epoch` argument in `fit` '\n"
     ]
    },
    {
     "name": "stdout",
     "output_type": "stream",
     "text": [
      "Train on 60000 samples, validate on 10000 samples\n",
      "Epoch 1/20\n",
      "60000/60000 [==============================] - 14s 233us/step - loss: 0.2433 - acc: 0.9250 - val_loss: 0.1144 - val_acc: 0.9643\n",
      "Epoch 2/20\n",
      "60000/60000 [==============================] - 14s 226us/step - loss: 0.1011 - acc: 0.9696 - val_loss: 0.0856 - val_acc: 0.9745\n",
      "Epoch 3/20\n",
      "60000/60000 [==============================] - 14s 228us/step - loss: 0.0755 - acc: 0.9769 - val_loss: 0.0750 - val_acc: 0.9778\n",
      "Epoch 4/20\n",
      "60000/60000 [==============================] - 14s 229us/step - loss: 0.0606 - acc: 0.9820 - val_loss: 0.1113 - val_acc: 0.9703\n",
      "Epoch 5/20\n",
      "60000/60000 [==============================] - 14s 230us/step - loss: 0.0500 - acc: 0.9856 - val_loss: 0.0822 - val_acc: 0.9783\n",
      "Epoch 6/20\n",
      "60000/60000 [==============================] - 14s 231us/step - loss: 0.0444 - acc: 0.9866 - val_loss: 0.0801 - val_acc: 0.9798\n",
      "Epoch 7/20\n",
      "60000/60000 [==============================] - 14s 233us/step - loss: 0.0371 - acc: 0.9892 - val_loss: 0.0749 - val_acc: 0.9819\n",
      "Epoch 8/20\n",
      "60000/60000 [==============================] - 14s 236us/step - loss: 0.0324 - acc: 0.9900 - val_loss: 0.0801 - val_acc: 0.9824\n",
      "Epoch 9/20\n",
      "60000/60000 [==============================] - 14s 236us/step - loss: 0.0313 - acc: 0.9911 - val_loss: 0.0861 - val_acc: 0.9825\n",
      "Epoch 10/20\n",
      "60000/60000 [==============================] - 14s 238us/step - loss: 0.0285 - acc: 0.9920 - val_loss: 0.0965 - val_acc: 0.9812\n",
      "Epoch 11/20\n",
      "60000/60000 [==============================] - 14s 239us/step - loss: 0.0246 - acc: 0.9928 - val_loss: 0.1012 - val_acc: 0.9820\n",
      "Epoch 12/20\n",
      "60000/60000 [==============================] - 14s 241us/step - loss: 0.0234 - acc: 0.9930 - val_loss: 0.1054 - val_acc: 0.9810\n",
      "Epoch 13/20\n",
      "60000/60000 [==============================] - 14s 239us/step - loss: 0.0230 - acc: 0.9933 - val_loss: 0.0850 - val_acc: 0.9835\n",
      "Epoch 14/20\n",
      "60000/60000 [==============================] - 14s 240us/step - loss: 0.0226 - acc: 0.9932 - val_loss: 0.1031 - val_acc: 0.9828\n",
      "Epoch 15/20\n",
      "60000/60000 [==============================] - 14s 239us/step - loss: 0.0213 - acc: 0.9941 - val_loss: 0.0869 - val_acc: 0.9840\n",
      "Epoch 16/20\n",
      "60000/60000 [==============================] - 14s 239us/step - loss: 0.0201 - acc: 0.9942 - val_loss: 0.1044 - val_acc: 0.9825\n",
      "Epoch 17/20\n",
      "60000/60000 [==============================] - 14s 239us/step - loss: 0.0199 - acc: 0.9946 - val_loss: 0.1022 - val_acc: 0.9849\n",
      "Epoch 18/20\n",
      "60000/60000 [==============================] - 14s 239us/step - loss: 0.0186 - acc: 0.9951 - val_loss: 0.1092 - val_acc: 0.9833\n",
      "Epoch 19/20\n",
      "60000/60000 [==============================] - 14s 240us/step - loss: 0.0179 - acc: 0.9955 - val_loss: 0.1095 - val_acc: 0.9833\n",
      "Epoch 20/20\n",
      "60000/60000 [==============================] - 16s 259us/step - loss: 0.0170 - acc: 0.9953 - val_loss: 0.1070 - val_acc: 0.9845\n"
     ]
    }
   ],
   "source": [
    "history = model.fit(X_train, Y_train,\n",
    "                    batch_size=batch_size, nb_epoch=nb_epoch,\n",
    "                    verbose=1, validation_data=(X_test, Y_test))"
   ]
  },
  {
   "cell_type": "markdown",
   "metadata": {},
   "source": [
    "## Evaluación del modelo"
   ]
  },
  {
   "cell_type": "code",
   "execution_count": 12,
   "metadata": {},
   "outputs": [
    {
     "name": "stdout",
     "output_type": "stream",
     "text": [
      "Test score: 0.106950518147\n",
      "Test accuracy: 0.9845\n"
     ]
    }
   ],
   "source": [
    "score = model.evaluate(X_test, Y_test, verbose=0)\n",
    "print('Test score:', score[0])\n",
    "print('Test accuracy:', score[1])"
   ]
  },
  {
   "cell_type": "code",
   "execution_count": null,
   "metadata": {
    "collapsed": true
   },
   "outputs": [],
   "source": []
  }
 ],
 "metadata": {
  "kernelspec": {
   "display_name": "Python 2",
   "language": "python",
   "name": "python2"
  },
  "language_info": {
   "codemirror_mode": {
    "name": "ipython",
    "version": 2
   },
   "file_extension": ".py",
   "mimetype": "text/x-python",
   "name": "python",
   "nbconvert_exporter": "python",
   "pygments_lexer": "ipython2",
   "version": "2.7.14"
  }
 },
 "nbformat": 4,
 "nbformat_minor": 2
}
